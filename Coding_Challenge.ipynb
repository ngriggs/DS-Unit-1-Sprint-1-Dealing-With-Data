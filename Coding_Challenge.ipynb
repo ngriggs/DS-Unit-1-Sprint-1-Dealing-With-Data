{
  "nbformat": 4,
  "nbformat_minor": 0,
  "metadata": {
    "colab": {
      "name": "Coding Challenge.ipynb",
      "version": "0.3.2",
      "provenance": [],
      "collapsed_sections": [],
      "include_colab_link": true
    },
    "kernelspec": {
      "name": "python3",
      "display_name": "Python 3"
    }
  },
  "cells": [
    {
      "cell_type": "markdown",
      "metadata": {
        "id": "view-in-github",
        "colab_type": "text"
      },
      "source": [
        "<a href=\"https://colab.research.google.com/github/ngriggs/DS-Unit-1-Sprint-1-Dealing-With-Data/blob/master/Coding_Challenge.ipynb\" target=\"_parent\"><img src=\"https://colab.research.google.com/assets/colab-badge.svg\" alt=\"Open In Colab\"/></a>"
      ]
    },
    {
      "cell_type": "markdown",
      "metadata": {
        "id": "dFR07HSo5h_t",
        "colab_type": "text"
      },
      "source": [
        "Two Number Sum:\n",
        "\n",
        "Write a function that takes in a non-empty array of distinct integers and an integer representing a target sum. If any two numbers in the input array sum up to the target sum, the function should return them in an array, in sorted order. If no two numbers sum up to the target sum, the function should return an empty array. **Assume that there will be at most one pair of numbers summing up to the target sum.**\n",
        "\n",
        "Sample input: [3,5,-4,8,11,1,-1,6], 10\n",
        "Sample output:\n",
        "[-1,11]\n"
      ]
    },
    {
      "cell_type": "code",
      "metadata": {
        "id": "pL3Pz5u07Il_",
        "colab_type": "code",
        "colab": {}
      },
      "source": [
        "def func(ints, summation):\n",
        "  final = []\n",
        "  for i in ints:\n",
        "    for j in ints:\n",
        "      if ints.index(j) != ints.index(i) and i + j == summation:\n",
        "        final.append(i)\n",
        "        final.append(j)\n",
        "        return sorted(final)\n",
        "  return final\n"
      ],
      "execution_count": 0,
      "outputs": []
    },
    {
      "cell_type": "code",
      "metadata": {
        "id": "fXHAFMjn9Ap6",
        "colab_type": "code",
        "colab": {
          "base_uri": "https://localhost:8080/",
          "height": 34
        },
        "outputId": "0d701230-cb98-41e2-c213-b35da389d838"
      },
      "source": [
        "func([3,5,-4,8,11,1,-1,6], 10)"
      ],
      "execution_count": 29,
      "outputs": [
        {
          "output_type": "execute_result",
          "data": {
            "text/plain": [
              "[-1, 11]"
            ]
          },
          "metadata": {
            "tags": []
          },
          "execution_count": 29
        }
      ]
    },
    {
      "cell_type": "code",
      "metadata": {
        "id": "GeC0TdVUASwD",
        "colab_type": "code",
        "colab": {}
      },
      "source": [
        "# This is the right idea; Need to do some memoization\n",
        "def func(ints, summation):\n",
        "  final = {}\n",
        "  for i in ints:\n",
        "    if summation - i in ints:\n",
        "      final.append(i)\n",
        "      final.append(ints.index(summation - i))\n",
        "      return sorted(final)\n",
        "  return final\n",
        "      "
      ],
      "execution_count": 0,
      "outputs": []
    },
    {
      "cell_type": "code",
      "metadata": {
        "id": "Cspif63XBIjS",
        "colab_type": "code",
        "colab": {
          "base_uri": "https://localhost:8080/",
          "height": 34
        },
        "outputId": "e5e3efcf-b31c-42ff-8f0b-e681e15572de"
      },
      "source": [
        "func([3,5,-4,8,11,1,-1,6], 10)"
      ],
      "execution_count": 54,
      "outputs": [
        {
          "output_type": "execute_result",
          "data": {
            "text/plain": [
              "[1, 5]"
            ]
          },
          "metadata": {
            "tags": []
          },
          "execution_count": 54
        }
      ]
    },
    {
      "cell_type": "code",
      "metadata": {
        "id": "q6e72-HkAtuq",
        "colab_type": "code",
        "colab": {}
      },
      "source": [
        "summ = 15\n",
        "test = [3,5,-4,8,11,1,-1,6]"
      ],
      "execution_count": 0,
      "outputs": []
    },
    {
      "cell_type": "code",
      "metadata": {
        "id": "cZIbOB0OAwzm",
        "colab_type": "code",
        "colab": {
          "base_uri": "https://localhost:8080/",
          "height": 163
        },
        "outputId": "65a9eaf4-ffde-444c-80b8-39098976cb20"
      },
      "source": [
        "test.index(summ - 5)"
      ],
      "execution_count": 34,
      "outputs": [
        {
          "output_type": "error",
          "ename": "ValueError",
          "evalue": "ignored",
          "traceback": [
            "\u001b[0;31m---------------------------------------------------------------------------\u001b[0m",
            "\u001b[0;31mValueError\u001b[0m                                Traceback (most recent call last)",
            "\u001b[0;32m<ipython-input-34-fc54549a3d54>\u001b[0m in \u001b[0;36m<module>\u001b[0;34m()\u001b[0m\n\u001b[0;32m----> 1\u001b[0;31m \u001b[0mtest\u001b[0m\u001b[0;34m.\u001b[0m\u001b[0mindex\u001b[0m\u001b[0;34m(\u001b[0m\u001b[0msumm\u001b[0m \u001b[0;34m-\u001b[0m \u001b[0;36m5\u001b[0m\u001b[0;34m)\u001b[0m\u001b[0;34m\u001b[0m\u001b[0;34m\u001b[0m\u001b[0m\n\u001b[0m",
            "\u001b[0;31mValueError\u001b[0m: 10 is not in list"
          ]
        }
      ]
    },
    {
      "cell_type": "code",
      "metadata": {
        "id": "poxIj3WAAzut",
        "colab_type": "code",
        "colab": {}
      },
      "source": [
        ""
      ],
      "execution_count": 0,
      "outputs": []
    }
  ]
}