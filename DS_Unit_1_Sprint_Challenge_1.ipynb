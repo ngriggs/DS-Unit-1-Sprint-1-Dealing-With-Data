{
  "nbformat": 4,
  "nbformat_minor": 0,
  "metadata": {
    "colab": {
      "name": "DS_Unit_1_Sprint_Challenge_1.ipynb",
      "version": "0.3.2",
      "provenance": [],
      "collapsed_sections": [],
      "include_colab_link": true
    },
    "kernelspec": {
      "name": "python3",
      "display_name": "Python 3"
    }
  },
  "cells": [
    {
      "cell_type": "markdown",
      "metadata": {
        "id": "view-in-github",
        "colab_type": "text"
      },
      "source": [
        "<a href=\"https://colab.research.google.com/github/ngriggs/DS-Unit-1-Sprint-1-Dealing-With-Data/blob/master/DS_Unit_1_Sprint_Challenge_1.ipynb\" target=\"_parent\"><img src=\"https://colab.research.google.com/assets/colab-badge.svg\" alt=\"Open In Colab\"/></a>"
      ]
    },
    {
      "cell_type": "markdown",
      "metadata": {
        "id": "NooAiTdnafkz",
        "colab_type": "text"
      },
      "source": [
        "# Data Science Unit 1 Sprint Challenge 1\n",
        "\n",
        "## Loading, cleaning, visualizing, and analyzing data\n",
        "\n",
        "In this sprint challenge you will look at a dataset of the survival of patients who underwent surgery for breast cancer.\n",
        "\n",
        "http://archive.ics.uci.edu/ml/datasets/Haberman%27s+Survival\n",
        "\n",
        "Data Set Information:\n",
        "The dataset contains cases from a study that was conducted between 1958 and 1970 at the University of Chicago's Billings Hospital on the survival of patients who had undergone surgery for breast cancer.\n",
        "\n",
        "Attribute Information:\n",
        "1. Age of patient at time of operation (numerical)\n",
        "2. Patient's year of operation (year - 1900, numerical)\n",
        "3. Number of positive axillary nodes detected (numerical)\n",
        "4. Survival status (class attribute)\n",
        "-- 1 = the patient survived 5 years or longer\n",
        "-- 2 = the patient died within 5 year\n",
        "\n",
        "Sprint challenges are evaluated based on satisfactory completion of each part. It is suggested you work through it in order, getting each aspect reasonably working, before trying to deeply explore, iterate, or refine any given step. Once you get to the end, if you want to go back and improve things, go for it!"
      ]
    },
    {
      "cell_type": "markdown",
      "metadata": {
        "id": "5wch6ksCbJtZ",
        "colab_type": "text"
      },
      "source": [
        "## Part 1 - Load and validate the data\n",
        "\n",
        "- Load the data as a `pandas` data frame.\n",
        "- Validate that it has the appropriate number of observations (you can check the raw file, and also read the dataset description from UCI).\n",
        "- Validate that you have no missing values.\n",
        "- Add informative names to the features.\n",
        "- The survival variable is encoded as 1 for surviving >5 years and 2 for not - change this to be 0 for not surviving and 1 for surviving >5 years (0/1 is a more traditional encoding of binary variables)\n",
        "\n",
        "At the end, print the first five rows of the dataset to demonstrate the above."
      ]
    },
    {
      "cell_type": "code",
      "metadata": {
        "id": "DF-U82-h8A6K",
        "colab_type": "code",
        "colab": {
          "base_uri": "https://localhost:8080/",
          "height": 204
        },
        "outputId": "70b1a178-2ab0-4512-98cf-e715af8dc56e"
      },
      "source": [
        "!wget http://archive.ics.uci.edu/ml/machine-learning-databases/haberman/haberman.data"
      ],
      "execution_count": 2,
      "outputs": [
        {
          "output_type": "stream",
          "text": [
            "--2019-07-20 01:13:42--  http://archive.ics.uci.edu/ml/machine-learning-databases/haberman/haberman.data\n",
            "Resolving archive.ics.uci.edu (archive.ics.uci.edu)... 128.195.10.252\n",
            "Connecting to archive.ics.uci.edu (archive.ics.uci.edu)|128.195.10.252|:80... connected.\n",
            "HTTP request sent, awaiting response... 200 OK\n",
            "Length: 3103 (3.0K) [application/x-httpd-php]\n",
            "Saving to: ‘haberman.data’\n",
            "\n",
            "\rhaberman.data         0%[                    ]       0  --.-KB/s               \rhaberman.data       100%[===================>]   3.03K  --.-KB/s    in 0s      \n",
            "\n",
            "2019-07-20 01:13:42 (339 MB/s) - ‘haberman.data’ saved [3103/3103]\n",
            "\n"
          ],
          "name": "stdout"
        }
      ]
    },
    {
      "cell_type": "code",
      "metadata": {
        "id": "qhkbGBl98Vlu",
        "colab_type": "code",
        "colab": {}
      },
      "source": [
        "import pandas as pd\n",
        "df = pd.read_csv('haberman.data', header=None)"
      ],
      "execution_count": 0,
      "outputs": []
    },
    {
      "cell_type": "code",
      "metadata": {
        "id": "DLoB4Zdx9TYV",
        "colab_type": "code",
        "colab": {}
      },
      "source": [
        "# Let's change the headers to more descriptive titles:\n",
        "\n",
        "headers = ['Age', 'Operation_year', 'Positive_aux_nodes', 'Survival']\n",
        "df.columns = headers"
      ],
      "execution_count": 0,
      "outputs": []
    },
    {
      "cell_type": "code",
      "metadata": {
        "id": "4U1ice7299AZ",
        "colab_type": "code",
        "colab": {
          "base_uri": "https://localhost:8080/",
          "height": 34
        },
        "outputId": "ffca7c5e-1ca0-4dd7-9579-8352edf5f8bf"
      },
      "source": [
        "# now we can check that we have the correct number of observations and columns\n",
        "# note, based on the doc in the link above we're expecting 306 observations\n",
        "\n",
        "df.shape"
      ],
      "execution_count": 105,
      "outputs": [
        {
          "output_type": "execute_result",
          "data": {
            "text/plain": [
              "(306, 4)"
            ]
          },
          "metadata": {
            "tags": []
          },
          "execution_count": 105
        }
      ]
    },
    {
      "cell_type": "code",
      "metadata": {
        "id": "lIpPCAE2-Y2p",
        "colab_type": "code",
        "colab": {
          "base_uri": "https://localhost:8080/",
          "height": 102
        },
        "outputId": "65163e7b-6e84-49d5-9778-c7a9c6c62500"
      },
      "source": [
        "# check for missing values\n",
        "\n",
        "df.isna().sum()"
      ],
      "execution_count": 106,
      "outputs": [
        {
          "output_type": "execute_result",
          "data": {
            "text/plain": [
              "Age                   0\n",
              "Operation_year        0\n",
              "Positive_aux_nodes    0\n",
              "Survival              0\n",
              "dtype: int64"
            ]
          },
          "metadata": {
            "tags": []
          },
          "execution_count": 106
        }
      ]
    },
    {
      "cell_type": "code",
      "metadata": {
        "id": "qFhPK8Hr-fA2",
        "colab_type": "code",
        "colab": {}
      },
      "source": [
        "def survival_refactor(num):\n",
        "  if num == 2:\n",
        "    return 0\n",
        "  else:\n",
        "    return 1\n"
      ],
      "execution_count": 0,
      "outputs": []
    },
    {
      "cell_type": "code",
      "metadata": {
        "id": "ux9y4KOg-stb",
        "colab_type": "code",
        "colab": {
          "base_uri": "https://localhost:8080/",
          "height": 34
        },
        "outputId": "960124ff-f6a9-4e05-db90-0db9ae67efc5"
      },
      "source": [
        "type(df.Survival[0])"
      ],
      "execution_count": 108,
      "outputs": [
        {
          "output_type": "execute_result",
          "data": {
            "text/plain": [
              "numpy.int64"
            ]
          },
          "metadata": {
            "tags": []
          },
          "execution_count": 108
        }
      ]
    },
    {
      "cell_type": "code",
      "metadata": {
        "id": "_txTHf3u-zuW",
        "colab_type": "code",
        "colab": {}
      },
      "source": [
        "x = 2\n",
        "y = 1"
      ],
      "execution_count": 0,
      "outputs": []
    },
    {
      "cell_type": "code",
      "metadata": {
        "id": "hk6OyE_X-3_I",
        "colab_type": "code",
        "colab": {
          "base_uri": "https://localhost:8080/",
          "height": 34
        },
        "outputId": "332b16d0-235b-4112-9715-61540dbdcc80"
      },
      "source": [
        "survival_refactor(x)"
      ],
      "execution_count": 110,
      "outputs": [
        {
          "output_type": "execute_result",
          "data": {
            "text/plain": [
              "0"
            ]
          },
          "metadata": {
            "tags": []
          },
          "execution_count": 110
        }
      ]
    },
    {
      "cell_type": "code",
      "metadata": {
        "id": "PV822ld-_cv8",
        "colab_type": "code",
        "colab": {
          "base_uri": "https://localhost:8080/",
          "height": 34
        },
        "outputId": "45b06f59-f260-402a-eddf-f4926db68541"
      },
      "source": [
        "survival_refactor(y)"
      ],
      "execution_count": 111,
      "outputs": [
        {
          "output_type": "execute_result",
          "data": {
            "text/plain": [
              "1"
            ]
          },
          "metadata": {
            "tags": []
          },
          "execution_count": 111
        }
      ]
    },
    {
      "cell_type": "code",
      "metadata": {
        "id": "gMMeWhyI_sZl",
        "colab_type": "code",
        "colab": {}
      },
      "source": [
        "df.Survival = df.Survival.apply(survival_refactor)"
      ],
      "execution_count": 0,
      "outputs": []
    },
    {
      "cell_type": "code",
      "metadata": {
        "id": "hpcQTWPXACNt",
        "colab_type": "code",
        "colab": {
          "base_uri": "https://localhost:8080/",
          "height": 204
        },
        "outputId": "93947818-d99f-4d6f-e79d-b3fd4976eb3f"
      },
      "source": [
        "df[:5]"
      ],
      "execution_count": 113,
      "outputs": [
        {
          "output_type": "execute_result",
          "data": {
            "text/html": [
              "<div>\n",
              "<style scoped>\n",
              "    .dataframe tbody tr th:only-of-type {\n",
              "        vertical-align: middle;\n",
              "    }\n",
              "\n",
              "    .dataframe tbody tr th {\n",
              "        vertical-align: top;\n",
              "    }\n",
              "\n",
              "    .dataframe thead th {\n",
              "        text-align: right;\n",
              "    }\n",
              "</style>\n",
              "<table border=\"1\" class=\"dataframe\">\n",
              "  <thead>\n",
              "    <tr style=\"text-align: right;\">\n",
              "      <th></th>\n",
              "      <th>Age</th>\n",
              "      <th>Operation_year</th>\n",
              "      <th>Positive_aux_nodes</th>\n",
              "      <th>Survival</th>\n",
              "    </tr>\n",
              "  </thead>\n",
              "  <tbody>\n",
              "    <tr>\n",
              "      <th>0</th>\n",
              "      <td>30</td>\n",
              "      <td>64</td>\n",
              "      <td>1</td>\n",
              "      <td>1</td>\n",
              "    </tr>\n",
              "    <tr>\n",
              "      <th>1</th>\n",
              "      <td>30</td>\n",
              "      <td>62</td>\n",
              "      <td>3</td>\n",
              "      <td>1</td>\n",
              "    </tr>\n",
              "    <tr>\n",
              "      <th>2</th>\n",
              "      <td>30</td>\n",
              "      <td>65</td>\n",
              "      <td>0</td>\n",
              "      <td>1</td>\n",
              "    </tr>\n",
              "    <tr>\n",
              "      <th>3</th>\n",
              "      <td>31</td>\n",
              "      <td>59</td>\n",
              "      <td>2</td>\n",
              "      <td>1</td>\n",
              "    </tr>\n",
              "    <tr>\n",
              "      <th>4</th>\n",
              "      <td>31</td>\n",
              "      <td>65</td>\n",
              "      <td>4</td>\n",
              "      <td>1</td>\n",
              "    </tr>\n",
              "  </tbody>\n",
              "</table>\n",
              "</div>"
            ],
            "text/plain": [
              "   Age  Operation_year  Positive_aux_nodes  Survival\n",
              "0   30              64                   1         1\n",
              "1   30              62                   3         1\n",
              "2   30              65                   0         1\n",
              "3   31              59                   2         1\n",
              "4   31              65                   4         1"
            ]
          },
          "metadata": {
            "tags": []
          },
          "execution_count": 113
        }
      ]
    },
    {
      "cell_type": "markdown",
      "metadata": {
        "id": "G7rLytbrO38L",
        "colab_type": "text"
      },
      "source": [
        "## Part 2 - Examine the distribution and relationships of the features\n",
        "\n",
        "Explore the data - create at least *2* tables (can be summary statistics or crosstabulations) and *2* plots illustrating the nature of the data.\n",
        "\n",
        "This is open-ended, so to remind - first *complete* this task as a baseline, then go on to the remaining sections, and *then* as time allows revisit and explore further.\n",
        "\n",
        "Hint - you may need to bin some variables depending on your chosen tables/plots."
      ]
    },
    {
      "cell_type": "code",
      "metadata": {
        "id": "SD26LHT5Ajts",
        "colab_type": "code",
        "colab": {
          "base_uri": "https://localhost:8080/",
          "height": 297
        },
        "outputId": "f9586045-ba64-4ab3-e10b-94cd74396cee"
      },
      "source": [
        "# first we'll take a look at some statistics for the dataset\n",
        "# average for the survival status column is 73%, so there are more people\n",
        "# who survived longer than 5 years\n",
        "df.describe()"
      ],
      "execution_count": 114,
      "outputs": [
        {
          "output_type": "execute_result",
          "data": {
            "text/html": [
              "<div>\n",
              "<style scoped>\n",
              "    .dataframe tbody tr th:only-of-type {\n",
              "        vertical-align: middle;\n",
              "    }\n",
              "\n",
              "    .dataframe tbody tr th {\n",
              "        vertical-align: top;\n",
              "    }\n",
              "\n",
              "    .dataframe thead th {\n",
              "        text-align: right;\n",
              "    }\n",
              "</style>\n",
              "<table border=\"1\" class=\"dataframe\">\n",
              "  <thead>\n",
              "    <tr style=\"text-align: right;\">\n",
              "      <th></th>\n",
              "      <th>Age</th>\n",
              "      <th>Operation_year</th>\n",
              "      <th>Positive_aux_nodes</th>\n",
              "      <th>Survival</th>\n",
              "    </tr>\n",
              "  </thead>\n",
              "  <tbody>\n",
              "    <tr>\n",
              "      <th>count</th>\n",
              "      <td>306.000000</td>\n",
              "      <td>306.000000</td>\n",
              "      <td>306.000000</td>\n",
              "      <td>306.000000</td>\n",
              "    </tr>\n",
              "    <tr>\n",
              "      <th>mean</th>\n",
              "      <td>52.457516</td>\n",
              "      <td>62.852941</td>\n",
              "      <td>4.026144</td>\n",
              "      <td>0.735294</td>\n",
              "    </tr>\n",
              "    <tr>\n",
              "      <th>std</th>\n",
              "      <td>10.803452</td>\n",
              "      <td>3.249405</td>\n",
              "      <td>7.189654</td>\n",
              "      <td>0.441899</td>\n",
              "    </tr>\n",
              "    <tr>\n",
              "      <th>min</th>\n",
              "      <td>30.000000</td>\n",
              "      <td>58.000000</td>\n",
              "      <td>0.000000</td>\n",
              "      <td>0.000000</td>\n",
              "    </tr>\n",
              "    <tr>\n",
              "      <th>25%</th>\n",
              "      <td>44.000000</td>\n",
              "      <td>60.000000</td>\n",
              "      <td>0.000000</td>\n",
              "      <td>0.000000</td>\n",
              "    </tr>\n",
              "    <tr>\n",
              "      <th>50%</th>\n",
              "      <td>52.000000</td>\n",
              "      <td>63.000000</td>\n",
              "      <td>1.000000</td>\n",
              "      <td>1.000000</td>\n",
              "    </tr>\n",
              "    <tr>\n",
              "      <th>75%</th>\n",
              "      <td>60.750000</td>\n",
              "      <td>65.750000</td>\n",
              "      <td>4.000000</td>\n",
              "      <td>1.000000</td>\n",
              "    </tr>\n",
              "    <tr>\n",
              "      <th>max</th>\n",
              "      <td>83.000000</td>\n",
              "      <td>69.000000</td>\n",
              "      <td>52.000000</td>\n",
              "      <td>1.000000</td>\n",
              "    </tr>\n",
              "  </tbody>\n",
              "</table>\n",
              "</div>"
            ],
            "text/plain": [
              "              Age  Operation_year  Positive_aux_nodes    Survival\n",
              "count  306.000000      306.000000          306.000000  306.000000\n",
              "mean    52.457516       62.852941            4.026144    0.735294\n",
              "std     10.803452        3.249405            7.189654    0.441899\n",
              "min     30.000000       58.000000            0.000000    0.000000\n",
              "25%     44.000000       60.000000            0.000000    0.000000\n",
              "50%     52.000000       63.000000            1.000000    1.000000\n",
              "75%     60.750000       65.750000            4.000000    1.000000\n",
              "max     83.000000       69.000000           52.000000    1.000000"
            ]
          },
          "metadata": {
            "tags": []
          },
          "execution_count": 114
        }
      ]
    },
    {
      "cell_type": "markdown",
      "metadata": {
        "id": "gDII-E-WT4uY",
        "colab_type": "text"
      },
      "source": [
        "## Number of positive axillary nodes"
      ]
    },
    {
      "cell_type": "code",
      "metadata": {
        "id": "VrOUwmo5Cz65",
        "colab_type": "code",
        "colab": {}
      },
      "source": [
        "# binning the axillary node data\n",
        "aux_bins = pd.cut(df['Positive_aux_nodes'], 5)"
      ],
      "execution_count": 0,
      "outputs": []
    },
    {
      "cell_type": "code",
      "metadata": {
        "id": "IAkllgCIFVj0",
        "colab_type": "code",
        "colab": {
          "base_uri": "https://localhost:8080/",
          "height": 235
        },
        "outputId": "4ac4cfc2-965c-4050-a77c-b05521536711"
      },
      "source": [
        "# seems like the fewer positive axillary  nodes you have\n",
        "# the more likely you are to survive\n",
        "pd.crosstab(aux_bins, df['Survival'], normalize ='index')"
      ],
      "execution_count": 116,
      "outputs": [
        {
          "output_type": "execute_result",
          "data": {
            "text/html": [
              "<div>\n",
              "<style scoped>\n",
              "    .dataframe tbody tr th:only-of-type {\n",
              "        vertical-align: middle;\n",
              "    }\n",
              "\n",
              "    .dataframe tbody tr th {\n",
              "        vertical-align: top;\n",
              "    }\n",
              "\n",
              "    .dataframe thead th {\n",
              "        text-align: right;\n",
              "    }\n",
              "</style>\n",
              "<table border=\"1\" class=\"dataframe\">\n",
              "  <thead>\n",
              "    <tr style=\"text-align: right;\">\n",
              "      <th>Survival</th>\n",
              "      <th>0</th>\n",
              "      <th>1</th>\n",
              "    </tr>\n",
              "    <tr>\n",
              "      <th>Positive_aux_nodes</th>\n",
              "      <th></th>\n",
              "      <th></th>\n",
              "    </tr>\n",
              "  </thead>\n",
              "  <tbody>\n",
              "    <tr>\n",
              "      <th>(-0.052, 10.4]</th>\n",
              "      <td>0.218045</td>\n",
              "      <td>0.781955</td>\n",
              "    </tr>\n",
              "    <tr>\n",
              "      <th>(10.4, 20.8]</th>\n",
              "      <td>0.576923</td>\n",
              "      <td>0.423077</td>\n",
              "    </tr>\n",
              "    <tr>\n",
              "      <th>(20.8, 31.2]</th>\n",
              "      <td>0.545455</td>\n",
              "      <td>0.454545</td>\n",
              "    </tr>\n",
              "    <tr>\n",
              "      <th>(31.2, 41.6]</th>\n",
              "      <td>1.000000</td>\n",
              "      <td>0.000000</td>\n",
              "    </tr>\n",
              "    <tr>\n",
              "      <th>(41.6, 52.0]</th>\n",
              "      <td>0.500000</td>\n",
              "      <td>0.500000</td>\n",
              "    </tr>\n",
              "  </tbody>\n",
              "</table>\n",
              "</div>"
            ],
            "text/plain": [
              "Survival                   0         1\n",
              "Positive_aux_nodes                    \n",
              "(-0.052, 10.4]      0.218045  0.781955\n",
              "(10.4, 20.8]        0.576923  0.423077\n",
              "(20.8, 31.2]        0.545455  0.454545\n",
              "(31.2, 41.6]        1.000000  0.000000\n",
              "(41.6, 52.0]        0.500000  0.500000"
            ]
          },
          "metadata": {
            "tags": []
          },
          "execution_count": 116
        }
      ]
    },
    {
      "cell_type": "markdown",
      "metadata": {
        "id": "sREktzSvT9jZ",
        "colab_type": "text"
      },
      "source": [
        "## Age"
      ]
    },
    {
      "cell_type": "code",
      "metadata": {
        "id": "9skmODd2EpUy",
        "colab_type": "code",
        "colab": {}
      },
      "source": [
        "# Binning age data\n",
        "age_bins = pd.cut(df.Age, 10)"
      ],
      "execution_count": 0,
      "outputs": []
    },
    {
      "cell_type": "code",
      "metadata": {
        "id": "wDbKBYKmEtVQ",
        "colab_type": "code",
        "colab": {
          "base_uri": "https://localhost:8080/",
          "height": 390
        },
        "outputId": "7278f5a4-873e-438c-831a-a6b7440ae4c3"
      },
      "source": [
        "# Age appears to have a bimodal distribution.  \n",
        "pd.crosstab(age_bins, df['Survival'], normalize ='index')"
      ],
      "execution_count": 118,
      "outputs": [
        {
          "output_type": "execute_result",
          "data": {
            "text/html": [
              "<div>\n",
              "<style scoped>\n",
              "    .dataframe tbody tr th:only-of-type {\n",
              "        vertical-align: middle;\n",
              "    }\n",
              "\n",
              "    .dataframe tbody tr th {\n",
              "        vertical-align: top;\n",
              "    }\n",
              "\n",
              "    .dataframe thead th {\n",
              "        text-align: right;\n",
              "    }\n",
              "</style>\n",
              "<table border=\"1\" class=\"dataframe\">\n",
              "  <thead>\n",
              "    <tr style=\"text-align: right;\">\n",
              "      <th>Survival</th>\n",
              "      <th>0</th>\n",
              "      <th>1</th>\n",
              "    </tr>\n",
              "    <tr>\n",
              "      <th>Age</th>\n",
              "      <th></th>\n",
              "      <th></th>\n",
              "    </tr>\n",
              "  </thead>\n",
              "  <tbody>\n",
              "    <tr>\n",
              "      <th>(29.947, 35.3]</th>\n",
              "      <td>0.125000</td>\n",
              "      <td>0.875000</td>\n",
              "    </tr>\n",
              "    <tr>\n",
              "      <th>(35.3, 40.6]</th>\n",
              "      <td>0.074074</td>\n",
              "      <td>0.925926</td>\n",
              "    </tr>\n",
              "    <tr>\n",
              "      <th>(40.6, 45.9]</th>\n",
              "      <td>0.326087</td>\n",
              "      <td>0.673913</td>\n",
              "    </tr>\n",
              "    <tr>\n",
              "      <th>(45.9, 51.2]</th>\n",
              "      <td>0.301887</td>\n",
              "      <td>0.698113</td>\n",
              "    </tr>\n",
              "    <tr>\n",
              "      <th>(51.2, 56.5]</th>\n",
              "      <td>0.327273</td>\n",
              "      <td>0.672727</td>\n",
              "    </tr>\n",
              "    <tr>\n",
              "      <th>(56.5, 61.8]</th>\n",
              "      <td>0.219512</td>\n",
              "      <td>0.780488</td>\n",
              "    </tr>\n",
              "    <tr>\n",
              "      <th>(61.8, 67.1]</th>\n",
              "      <td>0.292683</td>\n",
              "      <td>0.707317</td>\n",
              "    </tr>\n",
              "    <tr>\n",
              "      <th>(67.1, 72.4]</th>\n",
              "      <td>0.222222</td>\n",
              "      <td>0.777778</td>\n",
              "    </tr>\n",
              "    <tr>\n",
              "      <th>(72.4, 77.7]</th>\n",
              "      <td>0.142857</td>\n",
              "      <td>0.857143</td>\n",
              "    </tr>\n",
              "    <tr>\n",
              "      <th>(77.7, 83.0]</th>\n",
              "      <td>1.000000</td>\n",
              "      <td>0.000000</td>\n",
              "    </tr>\n",
              "  </tbody>\n",
              "</table>\n",
              "</div>"
            ],
            "text/plain": [
              "Survival               0         1\n",
              "Age                               \n",
              "(29.947, 35.3]  0.125000  0.875000\n",
              "(35.3, 40.6]    0.074074  0.925926\n",
              "(40.6, 45.9]    0.326087  0.673913\n",
              "(45.9, 51.2]    0.301887  0.698113\n",
              "(51.2, 56.5]    0.327273  0.672727\n",
              "(56.5, 61.8]    0.219512  0.780488\n",
              "(61.8, 67.1]    0.292683  0.707317\n",
              "(67.1, 72.4]    0.222222  0.777778\n",
              "(72.4, 77.7]    0.142857  0.857143\n",
              "(77.7, 83.0]    1.000000  0.000000"
            ]
          },
          "metadata": {
            "tags": []
          },
          "execution_count": 118
        }
      ]
    },
    {
      "cell_type": "code",
      "metadata": {
        "id": "an8vqDGIR_lh",
        "colab_type": "code",
        "colab": {
          "base_uri": "https://localhost:8080/",
          "height": 221
        },
        "outputId": "c9b50ffd-39ee-4cde-fd2b-121b5b3d3cfe"
      },
      "source": [
        "# lets take a look at the number of observations in each bin for the table above\n",
        "#df.groupby(bins)['Value'].agg(['count', 'sum'])\n",
        "\n",
        "df.groupby(age_bins)['Survival'].count()"
      ],
      "execution_count": 119,
      "outputs": [
        {
          "output_type": "execute_result",
          "data": {
            "text/plain": [
              "Age\n",
              "(29.947, 35.3]    16\n",
              "(35.3, 40.6]      27\n",
              "(40.6, 45.9]      46\n",
              "(45.9, 51.2]      53\n",
              "(51.2, 56.5]      55\n",
              "(56.5, 61.8]      41\n",
              "(61.8, 67.1]      41\n",
              "(67.1, 72.4]      18\n",
              "(72.4, 77.7]       7\n",
              "(77.7, 83.0]       2\n",
              "Name: Survival, dtype: int64"
            ]
          },
          "metadata": {
            "tags": []
          },
          "execution_count": 119
        }
      ]
    },
    {
      "cell_type": "code",
      "metadata": {
        "id": "yYoOPvtTUunN",
        "colab_type": "code",
        "colab": {
          "base_uri": "https://localhost:8080/",
          "height": 390
        },
        "outputId": "9970e64a-3301-4ee2-dd4c-87c031c17ba5"
      },
      "source": [
        "# Let's look at the above two tables together\n",
        "# Note: the average of the values in each age bin for survival\n",
        "# would be the same as normalize for survival status = 1. \n",
        "\n",
        "df.groupby(age_bins)['Survival'].agg(['count', 'mean'])"
      ],
      "execution_count": 129,
      "outputs": [
        {
          "output_type": "execute_result",
          "data": {
            "text/html": [
              "<div>\n",
              "<style scoped>\n",
              "    .dataframe tbody tr th:only-of-type {\n",
              "        vertical-align: middle;\n",
              "    }\n",
              "\n",
              "    .dataframe tbody tr th {\n",
              "        vertical-align: top;\n",
              "    }\n",
              "\n",
              "    .dataframe thead th {\n",
              "        text-align: right;\n",
              "    }\n",
              "</style>\n",
              "<table border=\"1\" class=\"dataframe\">\n",
              "  <thead>\n",
              "    <tr style=\"text-align: right;\">\n",
              "      <th></th>\n",
              "      <th>count</th>\n",
              "      <th>mean</th>\n",
              "    </tr>\n",
              "    <tr>\n",
              "      <th>Age</th>\n",
              "      <th></th>\n",
              "      <th></th>\n",
              "    </tr>\n",
              "  </thead>\n",
              "  <tbody>\n",
              "    <tr>\n",
              "      <th>(29.947, 35.3]</th>\n",
              "      <td>16</td>\n",
              "      <td>0.875000</td>\n",
              "    </tr>\n",
              "    <tr>\n",
              "      <th>(35.3, 40.6]</th>\n",
              "      <td>27</td>\n",
              "      <td>0.925926</td>\n",
              "    </tr>\n",
              "    <tr>\n",
              "      <th>(40.6, 45.9]</th>\n",
              "      <td>46</td>\n",
              "      <td>0.673913</td>\n",
              "    </tr>\n",
              "    <tr>\n",
              "      <th>(45.9, 51.2]</th>\n",
              "      <td>53</td>\n",
              "      <td>0.698113</td>\n",
              "    </tr>\n",
              "    <tr>\n",
              "      <th>(51.2, 56.5]</th>\n",
              "      <td>55</td>\n",
              "      <td>0.672727</td>\n",
              "    </tr>\n",
              "    <tr>\n",
              "      <th>(56.5, 61.8]</th>\n",
              "      <td>41</td>\n",
              "      <td>0.780488</td>\n",
              "    </tr>\n",
              "    <tr>\n",
              "      <th>(61.8, 67.1]</th>\n",
              "      <td>41</td>\n",
              "      <td>0.707317</td>\n",
              "    </tr>\n",
              "    <tr>\n",
              "      <th>(67.1, 72.4]</th>\n",
              "      <td>18</td>\n",
              "      <td>0.777778</td>\n",
              "    </tr>\n",
              "    <tr>\n",
              "      <th>(72.4, 77.7]</th>\n",
              "      <td>7</td>\n",
              "      <td>0.857143</td>\n",
              "    </tr>\n",
              "    <tr>\n",
              "      <th>(77.7, 83.0]</th>\n",
              "      <td>2</td>\n",
              "      <td>0.000000</td>\n",
              "    </tr>\n",
              "  </tbody>\n",
              "</table>\n",
              "</div>"
            ],
            "text/plain": [
              "                count      mean\n",
              "Age                            \n",
              "(29.947, 35.3]     16  0.875000\n",
              "(35.3, 40.6]       27  0.925926\n",
              "(40.6, 45.9]       46  0.673913\n",
              "(45.9, 51.2]       53  0.698113\n",
              "(51.2, 56.5]       55  0.672727\n",
              "(56.5, 61.8]       41  0.780488\n",
              "(61.8, 67.1]       41  0.707317\n",
              "(67.1, 72.4]       18  0.777778\n",
              "(72.4, 77.7]        7  0.857143\n",
              "(77.7, 83.0]        2  0.000000"
            ]
          },
          "metadata": {
            "tags": []
          },
          "execution_count": 129
        }
      ]
    },
    {
      "cell_type": "code",
      "metadata": {
        "id": "X8DANjpYWX48",
        "colab_type": "code",
        "colab": {
          "base_uri": "https://localhost:8080/",
          "height": 142
        },
        "outputId": "b3bb659d-6daa-4936-990e-fa34e0d422c5"
      },
      "source": [
        "# Now lets look at the average age for people with survival status = 1\n",
        "\n",
        "df.groupby('Survival')['Age'].agg(['mean', 'count'])"
      ],
      "execution_count": 133,
      "outputs": [
        {
          "output_type": "execute_result",
          "data": {
            "text/html": [
              "<div>\n",
              "<style scoped>\n",
              "    .dataframe tbody tr th:only-of-type {\n",
              "        vertical-align: middle;\n",
              "    }\n",
              "\n",
              "    .dataframe tbody tr th {\n",
              "        vertical-align: top;\n",
              "    }\n",
              "\n",
              "    .dataframe thead th {\n",
              "        text-align: right;\n",
              "    }\n",
              "</style>\n",
              "<table border=\"1\" class=\"dataframe\">\n",
              "  <thead>\n",
              "    <tr style=\"text-align: right;\">\n",
              "      <th></th>\n",
              "      <th>mean</th>\n",
              "      <th>count</th>\n",
              "    </tr>\n",
              "    <tr>\n",
              "      <th>Survival</th>\n",
              "      <th></th>\n",
              "      <th></th>\n",
              "    </tr>\n",
              "  </thead>\n",
              "  <tbody>\n",
              "    <tr>\n",
              "      <th>0</th>\n",
              "      <td>53.679012</td>\n",
              "      <td>81</td>\n",
              "    </tr>\n",
              "    <tr>\n",
              "      <th>1</th>\n",
              "      <td>52.017778</td>\n",
              "      <td>225</td>\n",
              "    </tr>\n",
              "  </tbody>\n",
              "</table>\n",
              "</div>"
            ],
            "text/plain": [
              "               mean  count\n",
              "Survival                  \n",
              "0         53.679012     81\n",
              "1         52.017778    225"
            ]
          },
          "metadata": {
            "tags": []
          },
          "execution_count": 133
        }
      ]
    },
    {
      "cell_type": "markdown",
      "metadata": {
        "id": "joyhtomwXpOJ",
        "colab_type": "text"
      },
      "source": [
        "## Age and number of positive nodes?"
      ]
    },
    {
      "cell_type": "code",
      "metadata": {
        "id": "YTZaBEFxYH8P",
        "colab_type": "code",
        "colab": {}
      },
      "source": [
        "age_bins2 = pd.cut(df.Age, 5)"
      ],
      "execution_count": 0,
      "outputs": []
    },
    {
      "cell_type": "code",
      "metadata": {
        "id": "nDK-D8pxXsmq",
        "colab_type": "code",
        "colab": {
          "base_uri": "https://localhost:8080/",
          "height": 576
        },
        "outputId": "fdf000c3-d404-4ddf-e86f-f583576abb7d"
      },
      "source": [
        "pd.crosstab(df['Survival'], [age_bins2, aux_bins], normalize ='columns').T"
      ],
      "execution_count": 139,
      "outputs": [
        {
          "output_type": "execute_result",
          "data": {
            "text/html": [
              "<div>\n",
              "<style scoped>\n",
              "    .dataframe tbody tr th:only-of-type {\n",
              "        vertical-align: middle;\n",
              "    }\n",
              "\n",
              "    .dataframe tbody tr th {\n",
              "        vertical-align: top;\n",
              "    }\n",
              "\n",
              "    .dataframe thead th {\n",
              "        text-align: right;\n",
              "    }\n",
              "</style>\n",
              "<table border=\"1\" class=\"dataframe\">\n",
              "  <thead>\n",
              "    <tr style=\"text-align: right;\">\n",
              "      <th></th>\n",
              "      <th>Survival</th>\n",
              "      <th>0</th>\n",
              "      <th>1</th>\n",
              "    </tr>\n",
              "    <tr>\n",
              "      <th>Age</th>\n",
              "      <th>Positive_aux_nodes</th>\n",
              "      <th></th>\n",
              "      <th></th>\n",
              "    </tr>\n",
              "  </thead>\n",
              "  <tbody>\n",
              "    <tr>\n",
              "      <th rowspan=\"3\" valign=\"top\">(29.947, 40.6]</th>\n",
              "      <th>(-0.052, 10.4]</th>\n",
              "      <td>0.078947</td>\n",
              "      <td>0.921053</td>\n",
              "    </tr>\n",
              "    <tr>\n",
              "      <th>(10.4, 20.8]</th>\n",
              "      <td>0.000000</td>\n",
              "      <td>1.000000</td>\n",
              "    </tr>\n",
              "    <tr>\n",
              "      <th>(20.8, 31.2]</th>\n",
              "      <td>0.500000</td>\n",
              "      <td>0.500000</td>\n",
              "    </tr>\n",
              "    <tr>\n",
              "      <th rowspan=\"4\" valign=\"top\">(40.6, 51.2]</th>\n",
              "      <th>(-0.052, 10.4]</th>\n",
              "      <td>0.258824</td>\n",
              "      <td>0.741176</td>\n",
              "    </tr>\n",
              "    <tr>\n",
              "      <th>(10.4, 20.8]</th>\n",
              "      <td>0.545455</td>\n",
              "      <td>0.454545</td>\n",
              "    </tr>\n",
              "    <tr>\n",
              "      <th>(20.8, 31.2]</th>\n",
              "      <td>1.000000</td>\n",
              "      <td>0.000000</td>\n",
              "    </tr>\n",
              "    <tr>\n",
              "      <th>(41.6, 52.0]</th>\n",
              "      <td>1.000000</td>\n",
              "      <td>0.000000</td>\n",
              "    </tr>\n",
              "    <tr>\n",
              "      <th rowspan=\"5\" valign=\"top\">(51.2, 61.8]</th>\n",
              "      <th>(-0.052, 10.4]</th>\n",
              "      <td>0.228916</td>\n",
              "      <td>0.771084</td>\n",
              "    </tr>\n",
              "    <tr>\n",
              "      <th>(10.4, 20.8]</th>\n",
              "      <td>0.714286</td>\n",
              "      <td>0.285714</td>\n",
              "    </tr>\n",
              "    <tr>\n",
              "      <th>(20.8, 31.2]</th>\n",
              "      <td>0.500000</td>\n",
              "      <td>0.500000</td>\n",
              "    </tr>\n",
              "    <tr>\n",
              "      <th>(31.2, 41.6]</th>\n",
              "      <td>1.000000</td>\n",
              "      <td>0.000000</td>\n",
              "    </tr>\n",
              "    <tr>\n",
              "      <th>(41.6, 52.0]</th>\n",
              "      <td>0.000000</td>\n",
              "      <td>1.000000</td>\n",
              "    </tr>\n",
              "    <tr>\n",
              "      <th rowspan=\"3\" valign=\"top\">(61.8, 72.4]</th>\n",
              "      <th>(-0.052, 10.4]</th>\n",
              "      <td>0.215686</td>\n",
              "      <td>0.784314</td>\n",
              "    </tr>\n",
              "    <tr>\n",
              "      <th>(10.4, 20.8]</th>\n",
              "      <td>0.800000</td>\n",
              "      <td>0.200000</td>\n",
              "    </tr>\n",
              "    <tr>\n",
              "      <th>(20.8, 31.2]</th>\n",
              "      <td>0.333333</td>\n",
              "      <td>0.666667</td>\n",
              "    </tr>\n",
              "    <tr>\n",
              "      <th>(72.4, 83.0]</th>\n",
              "      <th>(-0.052, 10.4]</th>\n",
              "      <td>0.333333</td>\n",
              "      <td>0.666667</td>\n",
              "    </tr>\n",
              "  </tbody>\n",
              "</table>\n",
              "</div>"
            ],
            "text/plain": [
              "Survival                                  0         1\n",
              "Age            Positive_aux_nodes                    \n",
              "(29.947, 40.6] (-0.052, 10.4]      0.078947  0.921053\n",
              "               (10.4, 20.8]        0.000000  1.000000\n",
              "               (20.8, 31.2]        0.500000  0.500000\n",
              "(40.6, 51.2]   (-0.052, 10.4]      0.258824  0.741176\n",
              "               (10.4, 20.8]        0.545455  0.454545\n",
              "               (20.8, 31.2]        1.000000  0.000000\n",
              "               (41.6, 52.0]        1.000000  0.000000\n",
              "(51.2, 61.8]   (-0.052, 10.4]      0.228916  0.771084\n",
              "               (10.4, 20.8]        0.714286  0.285714\n",
              "               (20.8, 31.2]        0.500000  0.500000\n",
              "               (31.2, 41.6]        1.000000  0.000000\n",
              "               (41.6, 52.0]        0.000000  1.000000\n",
              "(61.8, 72.4]   (-0.052, 10.4]      0.215686  0.784314\n",
              "               (10.4, 20.8]        0.800000  0.200000\n",
              "               (20.8, 31.2]        0.333333  0.666667\n",
              "(72.4, 83.0]   (-0.052, 10.4]      0.333333  0.666667"
            ]
          },
          "metadata": {
            "tags": []
          },
          "execution_count": 139
        }
      ]
    },
    {
      "cell_type": "code",
      "metadata": {
        "id": "WfPCsALxYTW2",
        "colab_type": "code",
        "colab": {
          "base_uri": "https://localhost:8080/",
          "height": 390
        },
        "outputId": "7b3ffe07-ce26-4bef-fd2c-78b380ae15c3"
      },
      "source": [
        "pd.crosstab(age_bins, columns=aux_bins.astype('<U32'), normalize='columns')"
      ],
      "execution_count": 156,
      "outputs": [
        {
          "output_type": "execute_result",
          "data": {
            "text/html": [
              "<div>\n",
              "<style scoped>\n",
              "    .dataframe tbody tr th:only-of-type {\n",
              "        vertical-align: middle;\n",
              "    }\n",
              "\n",
              "    .dataframe tbody tr th {\n",
              "        vertical-align: top;\n",
              "    }\n",
              "\n",
              "    .dataframe thead th {\n",
              "        text-align: right;\n",
              "    }\n",
              "</style>\n",
              "<table border=\"1\" class=\"dataframe\">\n",
              "  <thead>\n",
              "    <tr style=\"text-align: right;\">\n",
              "      <th>Positive_aux_nodes</th>\n",
              "      <th>(-0.052, 10.4]</th>\n",
              "      <th>(10.4, 20.8]</th>\n",
              "      <th>(20.8, 31.2]</th>\n",
              "      <th>(31.2, 41.6]</th>\n",
              "      <th>(41.6, 52.0]</th>\n",
              "    </tr>\n",
              "    <tr>\n",
              "      <th>Age</th>\n",
              "      <th></th>\n",
              "      <th></th>\n",
              "      <th></th>\n",
              "      <th></th>\n",
              "      <th></th>\n",
              "    </tr>\n",
              "  </thead>\n",
              "  <tbody>\n",
              "    <tr>\n",
              "      <th>(29.947, 35.3]</th>\n",
              "      <td>0.052632</td>\n",
              "      <td>0.038462</td>\n",
              "      <td>0.090909</td>\n",
              "      <td>0.0</td>\n",
              "      <td>0.0</td>\n",
              "    </tr>\n",
              "    <tr>\n",
              "      <th>(35.3, 40.6]</th>\n",
              "      <td>0.090226</td>\n",
              "      <td>0.076923</td>\n",
              "      <td>0.090909</td>\n",
              "      <td>0.0</td>\n",
              "      <td>0.0</td>\n",
              "    </tr>\n",
              "    <tr>\n",
              "      <th>(40.6, 45.9]</th>\n",
              "      <td>0.146617</td>\n",
              "      <td>0.192308</td>\n",
              "      <td>0.090909</td>\n",
              "      <td>0.0</td>\n",
              "      <td>0.5</td>\n",
              "    </tr>\n",
              "    <tr>\n",
              "      <th>(45.9, 51.2]</th>\n",
              "      <td>0.172932</td>\n",
              "      <td>0.230769</td>\n",
              "      <td>0.090909</td>\n",
              "      <td>0.0</td>\n",
              "      <td>0.0</td>\n",
              "    </tr>\n",
              "    <tr>\n",
              "      <th>(51.2, 56.5]</th>\n",
              "      <td>0.172932</td>\n",
              "      <td>0.192308</td>\n",
              "      <td>0.272727</td>\n",
              "      <td>0.0</td>\n",
              "      <td>0.5</td>\n",
              "    </tr>\n",
              "    <tr>\n",
              "      <th>(56.5, 61.8]</th>\n",
              "      <td>0.139098</td>\n",
              "      <td>0.076923</td>\n",
              "      <td>0.090909</td>\n",
              "      <td>1.0</td>\n",
              "      <td>0.0</td>\n",
              "    </tr>\n",
              "    <tr>\n",
              "      <th>(61.8, 67.1]</th>\n",
              "      <td>0.127820</td>\n",
              "      <td>0.153846</td>\n",
              "      <td>0.272727</td>\n",
              "      <td>0.0</td>\n",
              "      <td>0.0</td>\n",
              "    </tr>\n",
              "    <tr>\n",
              "      <th>(67.1, 72.4]</th>\n",
              "      <td>0.063910</td>\n",
              "      <td>0.038462</td>\n",
              "      <td>0.000000</td>\n",
              "      <td>0.0</td>\n",
              "      <td>0.0</td>\n",
              "    </tr>\n",
              "    <tr>\n",
              "      <th>(72.4, 77.7]</th>\n",
              "      <td>0.026316</td>\n",
              "      <td>0.000000</td>\n",
              "      <td>0.000000</td>\n",
              "      <td>0.0</td>\n",
              "      <td>0.0</td>\n",
              "    </tr>\n",
              "    <tr>\n",
              "      <th>(77.7, 83.0]</th>\n",
              "      <td>0.007519</td>\n",
              "      <td>0.000000</td>\n",
              "      <td>0.000000</td>\n",
              "      <td>0.0</td>\n",
              "      <td>0.0</td>\n",
              "    </tr>\n",
              "  </tbody>\n",
              "</table>\n",
              "</div>"
            ],
            "text/plain": [
              "Positive_aux_nodes  (-0.052, 10.4]  (10.4, 20.8]  ...  (31.2, 41.6]  (41.6, 52.0]\n",
              "Age                                               ...                            \n",
              "(29.947, 35.3]            0.052632      0.038462  ...           0.0           0.0\n",
              "(35.3, 40.6]              0.090226      0.076923  ...           0.0           0.0\n",
              "(40.6, 45.9]              0.146617      0.192308  ...           0.0           0.5\n",
              "(45.9, 51.2]              0.172932      0.230769  ...           0.0           0.0\n",
              "(51.2, 56.5]              0.172932      0.192308  ...           0.0           0.5\n",
              "(56.5, 61.8]              0.139098      0.076923  ...           1.0           0.0\n",
              "(61.8, 67.1]              0.127820      0.153846  ...           0.0           0.0\n",
              "(67.1, 72.4]              0.063910      0.038462  ...           0.0           0.0\n",
              "(72.4, 77.7]              0.026316      0.000000  ...           0.0           0.0\n",
              "(77.7, 83.0]              0.007519      0.000000  ...           0.0           0.0\n",
              "\n",
              "[10 rows x 5 columns]"
            ]
          },
          "metadata": {
            "tags": []
          },
          "execution_count": 156
        }
      ]
    },
    {
      "cell_type": "markdown",
      "metadata": {
        "id": "iuenHxMBT_2h",
        "colab_type": "text"
      },
      "source": [
        "## Operation year"
      ]
    },
    {
      "cell_type": "code",
      "metadata": {
        "id": "jaUwhjPaHpUH",
        "colab_type": "code",
        "colab": {}
      },
      "source": [
        "operation_bins = pd.cut(df.Operation_year, 5)"
      ],
      "execution_count": 0,
      "outputs": []
    },
    {
      "cell_type": "code",
      "metadata": {
        "id": "ORyiZcxcIAzX",
        "colab_type": "code",
        "colab": {
          "base_uri": "https://localhost:8080/",
          "height": 235
        },
        "outputId": "74a49af3-03ef-4fa9-e818-0009bd3fda9a"
      },
      "source": [
        "pd.crosstab(operation_bins, df['Survival'], normalize ='index')"
      ],
      "execution_count": 121,
      "outputs": [
        {
          "output_type": "execute_result",
          "data": {
            "text/html": [
              "<div>\n",
              "<style scoped>\n",
              "    .dataframe tbody tr th:only-of-type {\n",
              "        vertical-align: middle;\n",
              "    }\n",
              "\n",
              "    .dataframe tbody tr th {\n",
              "        vertical-align: top;\n",
              "    }\n",
              "\n",
              "    .dataframe thead th {\n",
              "        text-align: right;\n",
              "    }\n",
              "</style>\n",
              "<table border=\"1\" class=\"dataframe\">\n",
              "  <thead>\n",
              "    <tr style=\"text-align: right;\">\n",
              "      <th>Survival</th>\n",
              "      <th>0</th>\n",
              "      <th>1</th>\n",
              "    </tr>\n",
              "    <tr>\n",
              "      <th>Operation_year</th>\n",
              "      <th></th>\n",
              "      <th></th>\n",
              "    </tr>\n",
              "  </thead>\n",
              "  <tbody>\n",
              "    <tr>\n",
              "      <th>(57.989, 60.2]</th>\n",
              "      <td>0.274725</td>\n",
              "      <td>0.725275</td>\n",
              "    </tr>\n",
              "    <tr>\n",
              "      <th>(60.2, 62.4]</th>\n",
              "      <td>0.204082</td>\n",
              "      <td>0.795918</td>\n",
              "    </tr>\n",
              "    <tr>\n",
              "      <th>(62.4, 64.6]</th>\n",
              "      <td>0.262295</td>\n",
              "      <td>0.737705</td>\n",
              "    </tr>\n",
              "    <tr>\n",
              "      <th>(64.6, 66.8]</th>\n",
              "      <td>0.339286</td>\n",
              "      <td>0.660714</td>\n",
              "    </tr>\n",
              "    <tr>\n",
              "      <th>(66.8, 69.0]</th>\n",
              "      <td>0.224490</td>\n",
              "      <td>0.775510</td>\n",
              "    </tr>\n",
              "  </tbody>\n",
              "</table>\n",
              "</div>"
            ],
            "text/plain": [
              "Survival               0         1\n",
              "Operation_year                    \n",
              "(57.989, 60.2]  0.274725  0.725275\n",
              "(60.2, 62.4]    0.204082  0.795918\n",
              "(62.4, 64.6]    0.262295  0.737705\n",
              "(64.6, 66.8]    0.339286  0.660714\n",
              "(66.8, 69.0]    0.224490  0.775510"
            ]
          },
          "metadata": {
            "tags": []
          },
          "execution_count": 121
        }
      ]
    },
    {
      "cell_type": "markdown",
      "metadata": {
        "id": "FFX21gGYUCTE",
        "colab_type": "text"
      },
      "source": [
        "## Data Visualizations"
      ]
    },
    {
      "cell_type": "code",
      "metadata": {
        "id": "vVLljGIFNGM9",
        "colab_type": "code",
        "colab": {}
      },
      "source": [
        "import matplotlib.pyplot as plt\n",
        "import seaborn as sns"
      ],
      "execution_count": 0,
      "outputs": []
    },
    {
      "cell_type": "code",
      "metadata": {
        "id": "cr4KvvXMOxLI",
        "colab_type": "code",
        "colab": {
          "base_uri": "https://localhost:8080/",
          "height": 458
        },
        "outputId": "b5ac489f-cce9-481d-f323-da60439da23a"
      },
      "source": [
        "fig = plt.subplots(figsize =(9, 7)) \n",
        "sns.violinplot(x = df['Survival'], y = df['Age'] )\n",
        "plt.title('Violin plot of Survival Status versus Age');"
      ],
      "execution_count": 159,
      "outputs": [
        {
          "output_type": "display_data",
          "data": {
            "image/png": "[encoded data removed]",
            "text/plain": [
              "<Figure size 648x504 with 1 Axes>"
            ]
          },
          "metadata": {
            "tags": []
          }
        }
      ]
    },
    {
      "cell_type": "code",
      "metadata": {
        "id": "pDhdOEBmPhQX",
        "colab_type": "code",
        "colab": {
          "base_uri": "https://localhost:8080/",
          "height": 458
        },
        "outputId": "231a7dc7-721d-4a31-cdf6-7bea2747d54d"
      },
      "source": [
        "fig = plt.subplots(figsize =(9, 7)) \n",
        "sns.violinplot(x = df['Survival'], y = df['Positive_aux_nodes'] )\n",
        "plt.title('Violin plot of Survival Status versus Number of Positive Axillary Nodes');"
      ],
      "execution_count": 160,
      "outputs": [
        {
          "output_type": "display_data",
          "data": {
            "image/png": "[encoded data removed]",
            "text/plain": [
              "<Figure size 648x504 with 1 Axes>"
            ]
          },
          "metadata": {
            "tags": []
          }
        }
      ]
    },
    {
      "cell_type": "code",
      "metadata": {
        "id": "i9ggJj0kUH7n",
        "colab_type": "code",
        "colab": {
          "base_uri": "https://localhost:8080/",
          "height": 458
        },
        "outputId": "4aa1415c-e523-4713-ae3c-1af42200b739"
      },
      "source": [
        "fig = plt.subplots(figsize =(9, 7)) \n",
        "sns.violinplot(x = df['Survival'], y = df['Operation_year'] )\n",
        "plt.title('Violin plot of Survival Status versus Operation Year');"
      ],
      "execution_count": 161,
      "outputs": [
        {
          "output_type": "display_data",
          "data": {
            "image/png": "[encoded data removed]",
            "text/plain": [
              "<Figure size 648x504 with 1 Axes>"
            ]
          },
          "metadata": {
            "tags": []
          }
        }
      ]
    },
    {
      "cell_type": "code",
      "metadata": {
        "id": "6j25tYjCA7fS",
        "colab_type": "code",
        "colab": {
          "base_uri": "https://localhost:8080/",
          "height": 295
        },
        "outputId": "20d8b8b2-4c9c-4a63-9d78-2f238e86992f"
      },
      "source": [
        "plt.scatter(df.Survival, df.Age);\n",
        "plt.ylabel('Age')\n",
        "plt.xlabel('Survival Status')\n",
        "plt.xticks([0,1])\n",
        "plt.title('Survival Status versus Age');"
      ],
      "execution_count": 163,
      "outputs": [
        {
          "output_type": "display_data",
          "data": {
            "image/png": "[encoded data removed]",
            "text/plain": [
              "<Figure size 432x288 with 1 Axes>"
            ]
          },
          "metadata": {
            "tags": []
          }
        }
      ]
    },
    {
      "cell_type": "markdown",
      "metadata": {
        "id": "ZM8JckA2bgnp",
        "colab_type": "text"
      },
      "source": [
        "## Part 3 - Analysis and Interpretation\n",
        "\n",
        "Now that you've looked at the data, answer the following questions:\n",
        "\n",
        "### What is at least one feature that looks to have a positive relationship with survival?\n",
        "\n",
        "   * Age\n",
        "   \n",
        "   This one is interesting. For people under 40, it seems that there is a high likelihood of surviving longer than 5 years. However, after 40, as the age at which you undergo the breast cancer operation increases, the likelihood of surviving past 5 years also increases. So, there is a bimodal distribution here, and not quite an entirely positive correlation between age and survival.\n",
        "\n",
        "###What is at least one feature that looks to have a negative relationship with survival?\n",
        "\n",
        "   * Number of positive axillary nodes \n",
        "\n",
        "\n",
        "###How are those two features related with each other, and what might that mean?\n",
        "\n",
        "Note: please see the above table for number of positive nodes vs survival rate\n",
        "\n",
        "As the number of positive axillary nodes increases, the probability of survival of that patient decreases. We see that patients with 0-10 positive nodes have the highest survival rate based on this dataset. \n",
        "\n",
        "This is fairly intuitive given the wikipedia definition of a positive axillary node as a lympy node in the armpit to which cancer has spread. It stands to reason that if you have a large number of these nodes to which cancer has spread your survival rate after an operation to remove them would be low. Potentially the doctor wouldn't be able to get all of them or something along those lines. \n",
        "\n"
      ]
    },
    {
      "cell_type": "markdown",
      "metadata": {
        "id": "Yj2iyBa2aXYu",
        "colab_type": "text"
      },
      "source": [
        "Also, this last question is a little unclear. If you mean what is the relationship between age and number of axillary nodes, there doesn't appear to be one. You could posit that as the age at the time of operation gets larger the number of positive nodes increases, but the dataset does not show this relationship. "
      ]
    },
    {
      "cell_type": "code",
      "metadata": {
        "id": "vpyynmJQatBw",
        "colab_type": "code",
        "colab": {}
      },
      "source": [
        ""
      ],
      "execution_count": 0,
      "outputs": []
    }
  ]
}