{
  "nbformat": 4,
  "nbformat_minor": 0,
  "metadata": {
    "colab": {
      "name": "Day 2 Coding Challenge.ipynb",
      "version": "0.3.2",
      "provenance": [],
      "include_colab_link": true
    },
    "kernelspec": {
      "name": "python3",
      "display_name": "Python 3"
    }
  },
  "cells": [
    {
      "cell_type": "markdown",
      "metadata": {
        "id": "view-in-github",
        "colab_type": "text"
      },
      "source": [
        "<a href=\"https://colab.research.google.com/github/ngriggs/DS-Unit-1-Sprint-1-Dealing-With-Data/blob/master/Day_2_Coding_Challenge.ipynb\" target=\"_parent\"><img src=\"https://colab.research.google.com/assets/colab-badge.svg\" alt=\"Open In Colab\"/></a>"
      ]
    },
    {
      "cell_type": "code",
      "metadata": {
        "id": "Yz58KZRdskLZ",
        "colab_type": "code",
        "colab": {
          "base_uri": "https://localhost:8080/",
          "height": 119
        },
        "outputId": "774ae52d-9462-4e4f-ef0e-288e11ff34fd"
      },
      "source": [
        "import pandas as pd\n",
        "import numpy as np\n",
        "\n",
        "\n",
        "# load in data\n",
        "df = pd.read_csv('https://raw.githubusercontent.com' +\n",
        "'/edwardauron/LambdaCodeChallenges/master/fake_housing_data.csv', index_col=0)\n",
        "\n",
        "# run me before coding to explore dataset\n",
        "print(df.head())\n",
        "\n",
        "def boolean_filter(dataframe):\n",
        "    pass"
      ],
      "execution_count": 3,
      "outputs": [
        {
          "output_type": "stream",
          "text": [
            "    price  age  num_bathrooms pets_allowed state\n",
            "0  357453   35              2          yes    NH\n",
            "1  390604    9              4          yes    IN\n",
            "2  567497    5              1           no    WV\n",
            "3  343231   37              1          yes    WA\n",
            "4  603930   24              3           no    DE\n"
          ],
          "name": "stdout"
        }
      ]
    },
    {
      "cell_type": "code",
      "metadata": {
        "id": "8b8STZ30tYre",
        "colab_type": "code",
        "colab": {}
      },
      "source": [
        "# Boolean expressions are statements that evaluate as either true or false.\n",
        "# For example \"Today is Christmas\" would evaluate as false on every day \n",
        "# execpt December 25th"
      ],
      "execution_count": 0,
      "outputs": []
    },
    {
      "cell_type": "markdown",
      "metadata": {
        "id": "qm9mzwETuFHf",
        "colab_type": "text"
      },
      "source": [
        "You want:\n",
        "\n",
        "*   A home that is less than 20 years old.\n",
        "*   A home with more than one bathroom.\n",
        "*   A home that meets your budget (<=$550000).\n",
        "\n",
        "\n",
        "\n"
      ]
    },
    {
      "cell_type": "code",
      "metadata": {
        "id": "zrF6XkZquQn5",
        "colab_type": "code",
        "colab": {}
      },
      "source": [
        "def boolean_filter(dataframe):\n",
        "  is_under_20 = dataframe['age'] < 20\n",
        "  num_bathroom_over_one = dataframe['num_bathrooms'] > 1\n",
        "  in_budget = dataframe['price'] <= 550000\n",
        "  \n",
        "  return dataframe[is_under_20 & num_bathroom_over_one & in_budget]"
      ],
      "execution_count": 0,
      "outputs": []
    },
    {
      "cell_type": "code",
      "metadata": {
        "id": "fhnojxbzv1AO",
        "colab_type": "code",
        "colab": {
          "base_uri": "https://localhost:8080/",
          "height": 204
        },
        "outputId": "2f803d2d-c7bc-4c05-b9dd-aa4fd2f63077"
      },
      "source": [
        "boolean_filter(df).head()"
      ],
      "execution_count": 6,
      "outputs": [
        {
          "output_type": "execute_result",
          "data": {
            "text/html": [
              "<div>\n",
              "<style scoped>\n",
              "    .dataframe tbody tr th:only-of-type {\n",
              "        vertical-align: middle;\n",
              "    }\n",
              "\n",
              "    .dataframe tbody tr th {\n",
              "        vertical-align: top;\n",
              "    }\n",
              "\n",
              "    .dataframe thead th {\n",
              "        text-align: right;\n",
              "    }\n",
              "</style>\n",
              "<table border=\"1\" class=\"dataframe\">\n",
              "  <thead>\n",
              "    <tr style=\"text-align: right;\">\n",
              "      <th></th>\n",
              "      <th>price</th>\n",
              "      <th>age</th>\n",
              "      <th>num_bathrooms</th>\n",
              "      <th>pets_allowed</th>\n",
              "      <th>state</th>\n",
              "    </tr>\n",
              "  </thead>\n",
              "  <tbody>\n",
              "    <tr>\n",
              "      <th>1</th>\n",
              "      <td>390604</td>\n",
              "      <td>9</td>\n",
              "      <td>4</td>\n",
              "      <td>yes</td>\n",
              "      <td>IN</td>\n",
              "    </tr>\n",
              "    <tr>\n",
              "      <th>18</th>\n",
              "      <td>383494</td>\n",
              "      <td>19</td>\n",
              "      <td>3</td>\n",
              "      <td>no</td>\n",
              "      <td>OH</td>\n",
              "    </tr>\n",
              "    <tr>\n",
              "      <th>23</th>\n",
              "      <td>494893</td>\n",
              "      <td>1</td>\n",
              "      <td>3</td>\n",
              "      <td>no</td>\n",
              "      <td>NV</td>\n",
              "    </tr>\n",
              "    <tr>\n",
              "      <th>28</th>\n",
              "      <td>368678</td>\n",
              "      <td>15</td>\n",
              "      <td>2</td>\n",
              "      <td>no</td>\n",
              "      <td>HI</td>\n",
              "    </tr>\n",
              "    <tr>\n",
              "      <th>30</th>\n",
              "      <td>370983</td>\n",
              "      <td>3</td>\n",
              "      <td>2</td>\n",
              "      <td>yes</td>\n",
              "      <td>UT</td>\n",
              "    </tr>\n",
              "  </tbody>\n",
              "</table>\n",
              "</div>"
            ],
            "text/plain": [
              "     price  age  num_bathrooms pets_allowed state\n",
              "1   390604    9              4          yes    IN\n",
              "18  383494   19              3           no    OH\n",
              "23  494893    1              3           no    NV\n",
              "28  368678   15              2           no    HI\n",
              "30  370983    3              2          yes    UT"
            ]
          },
          "metadata": {
            "tags": []
          },
          "execution_count": 6
        }
      ]
    },
    {
      "cell_type": "code",
      "metadata": {
        "id": "Y4vQ8o5nv5w2",
        "colab_type": "code",
        "colab": {}
      },
      "source": [
        "df1 = df.copy()"
      ],
      "execution_count": 0,
      "outputs": []
    },
    {
      "cell_type": "code",
      "metadata": {
        "id": "TQ02BAwAwngm",
        "colab_type": "code",
        "colab": {
          "base_uri": "https://localhost:8080/",
          "height": 204
        },
        "outputId": "b5bc3c94-7712-4bfc-fa8b-d44f911c0af8"
      },
      "source": [
        "df1['Possible_Dream_Home'] = df1.index.isin(boolean_filter(df).index)\n",
        "df1.head()"
      ],
      "execution_count": 9,
      "outputs": [
        {
          "output_type": "execute_result",
          "data": {
            "text/html": [
              "<div>\n",
              "<style scoped>\n",
              "    .dataframe tbody tr th:only-of-type {\n",
              "        vertical-align: middle;\n",
              "    }\n",
              "\n",
              "    .dataframe tbody tr th {\n",
              "        vertical-align: top;\n",
              "    }\n",
              "\n",
              "    .dataframe thead th {\n",
              "        text-align: right;\n",
              "    }\n",
              "</style>\n",
              "<table border=\"1\" class=\"dataframe\">\n",
              "  <thead>\n",
              "    <tr style=\"text-align: right;\">\n",
              "      <th></th>\n",
              "      <th>price</th>\n",
              "      <th>age</th>\n",
              "      <th>num_bathrooms</th>\n",
              "      <th>pets_allowed</th>\n",
              "      <th>state</th>\n",
              "      <th>Possible_Dream_Home</th>\n",
              "    </tr>\n",
              "  </thead>\n",
              "  <tbody>\n",
              "    <tr>\n",
              "      <th>0</th>\n",
              "      <td>357453</td>\n",
              "      <td>35</td>\n",
              "      <td>2</td>\n",
              "      <td>yes</td>\n",
              "      <td>NH</td>\n",
              "      <td>False</td>\n",
              "    </tr>\n",
              "    <tr>\n",
              "      <th>1</th>\n",
              "      <td>390604</td>\n",
              "      <td>9</td>\n",
              "      <td>4</td>\n",
              "      <td>yes</td>\n",
              "      <td>IN</td>\n",
              "      <td>True</td>\n",
              "    </tr>\n",
              "    <tr>\n",
              "      <th>2</th>\n",
              "      <td>567497</td>\n",
              "      <td>5</td>\n",
              "      <td>1</td>\n",
              "      <td>no</td>\n",
              "      <td>WV</td>\n",
              "      <td>False</td>\n",
              "    </tr>\n",
              "    <tr>\n",
              "      <th>3</th>\n",
              "      <td>343231</td>\n",
              "      <td>37</td>\n",
              "      <td>1</td>\n",
              "      <td>yes</td>\n",
              "      <td>WA</td>\n",
              "      <td>False</td>\n",
              "    </tr>\n",
              "    <tr>\n",
              "      <th>4</th>\n",
              "      <td>603930</td>\n",
              "      <td>24</td>\n",
              "      <td>3</td>\n",
              "      <td>no</td>\n",
              "      <td>DE</td>\n",
              "      <td>False</td>\n",
              "    </tr>\n",
              "  </tbody>\n",
              "</table>\n",
              "</div>"
            ],
            "text/plain": [
              "    price  age  num_bathrooms pets_allowed state  Possible_Dream_Home\n",
              "0  357453   35              2          yes    NH                False\n",
              "1  390604    9              4          yes    IN                 True\n",
              "2  567497    5              1           no    WV                False\n",
              "3  343231   37              1          yes    WA                False\n",
              "4  603930   24              3           no    DE                False"
            ]
          },
          "metadata": {
            "tags": []
          },
          "execution_count": 9
        }
      ]
    },
    {
      "cell_type": "code",
      "metadata": {
        "id": "CbMtmM60xnmv",
        "colab_type": "code",
        "colab": {
          "base_uri": "https://localhost:8080/",
          "height": 326
        },
        "outputId": "3334533b-96d0-4f31-8f24-83e8544ead16"
      },
      "source": [
        "df.where(boolean_filter(df).index)"
      ],
      "execution_count": 11,
      "outputs": [
        {
          "output_type": "error",
          "ename": "ValueError",
          "evalue": "ignored",
          "traceback": [
            "\u001b[0;31m---------------------------------------------------------------------------\u001b[0m",
            "\u001b[0;31mValueError\u001b[0m                                Traceback (most recent call last)",
            "\u001b[0;32m<ipython-input-11-253917ada301>\u001b[0m in \u001b[0;36m<module>\u001b[0;34m()\u001b[0m\n\u001b[0;32m----> 1\u001b[0;31m \u001b[0mdf\u001b[0m\u001b[0;34m.\u001b[0m\u001b[0mwhere\u001b[0m\u001b[0;34m(\u001b[0m\u001b[0mboolean_filter\u001b[0m\u001b[0;34m(\u001b[0m\u001b[0mdf\u001b[0m\u001b[0;34m)\u001b[0m\u001b[0;34m.\u001b[0m\u001b[0mindex\u001b[0m\u001b[0;34m)\u001b[0m\u001b[0;34m\u001b[0m\u001b[0;34m\u001b[0m\u001b[0m\n\u001b[0m",
            "\u001b[0;32m/usr/local/lib/python3.6/dist-packages/pandas/core/generic.py\u001b[0m in \u001b[0;36mwhere\u001b[0;34m(self, cond, other, inplace, axis, level, errors, try_cast, raise_on_error)\u001b[0m\n\u001b[1;32m   8832\u001b[0m         \u001b[0mother\u001b[0m \u001b[0;34m=\u001b[0m \u001b[0mcom\u001b[0m\u001b[0;34m.\u001b[0m\u001b[0mapply_if_callable\u001b[0m\u001b[0;34m(\u001b[0m\u001b[0mother\u001b[0m\u001b[0;34m,\u001b[0m \u001b[0mself\u001b[0m\u001b[0;34m)\u001b[0m\u001b[0;34m\u001b[0m\u001b[0;34m\u001b[0m\u001b[0m\n\u001b[1;32m   8833\u001b[0m         return self._where(cond, other, inplace, axis, level,\n\u001b[0;32m-> 8834\u001b[0;31m                            errors=errors, try_cast=try_cast)\n\u001b[0m\u001b[1;32m   8835\u001b[0m \u001b[0;34m\u001b[0m\u001b[0m\n\u001b[1;32m   8836\u001b[0m     @Appender(_shared_docs['where'] % dict(_shared_doc_kwargs, cond=\"False\",\n",
            "\u001b[0;32m/usr/local/lib/python3.6/dist-packages/pandas/core/generic.py\u001b[0m in \u001b[0;36m_where\u001b[0;34m(self, cond, other, inplace, axis, level, errors, try_cast)\u001b[0m\n\u001b[1;32m   8570\u001b[0m                 \u001b[0mcond\u001b[0m \u001b[0;34m=\u001b[0m \u001b[0mnp\u001b[0m\u001b[0;34m.\u001b[0m\u001b[0masanyarray\u001b[0m\u001b[0;34m(\u001b[0m\u001b[0mcond\u001b[0m\u001b[0;34m)\u001b[0m\u001b[0;34m\u001b[0m\u001b[0;34m\u001b[0m\u001b[0m\n\u001b[1;32m   8571\u001b[0m             \u001b[0;32mif\u001b[0m \u001b[0mcond\u001b[0m\u001b[0;34m.\u001b[0m\u001b[0mshape\u001b[0m \u001b[0;34m!=\u001b[0m \u001b[0mself\u001b[0m\u001b[0;34m.\u001b[0m\u001b[0mshape\u001b[0m\u001b[0;34m:\u001b[0m\u001b[0;34m\u001b[0m\u001b[0;34m\u001b[0m\u001b[0m\n\u001b[0;32m-> 8572\u001b[0;31m                 raise ValueError('Array conditional must be same shape as '\n\u001b[0m\u001b[1;32m   8573\u001b[0m                                  'self')\n\u001b[1;32m   8574\u001b[0m             \u001b[0mcond\u001b[0m \u001b[0;34m=\u001b[0m \u001b[0mself\u001b[0m\u001b[0;34m.\u001b[0m\u001b[0m_constructor\u001b[0m\u001b[0;34m(\u001b[0m\u001b[0mcond\u001b[0m\u001b[0;34m,\u001b[0m \u001b[0;34m**\u001b[0m\u001b[0mself\u001b[0m\u001b[0;34m.\u001b[0m\u001b[0m_construct_axes_dict\u001b[0m\u001b[0;34m(\u001b[0m\u001b[0;34m)\u001b[0m\u001b[0;34m)\u001b[0m\u001b[0;34m\u001b[0m\u001b[0;34m\u001b[0m\u001b[0m\n",
            "\u001b[0;31mValueError\u001b[0m: Array conditional must be same shape as self"
          ]
        }
      ]
    },
    {
      "cell_type": "code",
      "metadata": {
        "id": "mJ8JTjYw6JAa",
        "colab_type": "code",
        "colab": {}
      },
      "source": [
        ""
      ],
      "execution_count": 0,
      "outputs": []
    }
  ]
}